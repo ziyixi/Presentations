{
 "cells": [
  {
   "cell_type": "markdown",
   "metadata": {},
   "source": [
    "# An example of Perceptron"
   ]
  },
  {
   "cell_type": "code",
   "execution_count": 1,
   "metadata": {},
   "outputs": [
    {
     "name": "stdout",
     "output_type": "stream",
     "text": [
      "Ziyi Xi \n",
      "last updated: 2019-01-21 \n",
      "\n",
      "numpy 1.15.1\n",
      "pandas 0.23.4\n",
      "matplotlib 2.2.3\n"
     ]
    }
   ],
   "source": [
    "%load_ext watermark\n",
    "%watermark -a \"Ziyi Xi\" -u -d -p numpy,pandas,matplotlib"
   ]
  },
  {
   "cell_type": "markdown",
   "metadata": {},
   "source": [
    "The code below is adapted from the Book \"Python machine learning\". The flags I have added:\n",
    "+ use_adaptive_stepsize=False"
   ]
  },
  {
   "cell_type": "markdown",
   "metadata": {},
   "source": [
    "### use adaptive step size \n",
    "The perceptron learning rule: $\\Delta w_j=\\eta (y^{(i)}-y^{(i)}_p)$\n",
    "\n",
    "Here $\\Delta w_j$ is the weight to update, $\\eta$ is the learning rate, $y^{(i)}$ is the true class label of the ith class label, $y^{(i)}_p$ is the predicted class label.\n",
    "\n",
    "The more data mislabeled, it seems the bigger $\\eta$ should be. So here in each step, I choose $\\eta$ as:\n",
    "$$\\eta=2\\eta_0 \\frac{n_{mis}}{n_{all}}$$\n",
    "\n",
    "Here $\\eta$ is the learning rate for each step, $\\eta_0$ is the initial learning rate, $n_{mis}$ is the number of data mislabeled, $n_{all}$ is the total number of data points. The $2$ means the expection of the data mislocated rate is 0.5, using $2$ could be coincide with the case not using adaptive stepsize."
   ]
  },
  {
   "cell_type": "code",
   "execution_count": 100,
   "metadata": {},
   "outputs": [],
   "source": [
    "import numpy as np\n",
    "import matplotlib.pyplot as plt\n",
    "import matplotlib.animation as animation\n",
    "from matplotlib.lines import Line2D\n",
    "from IPython.display import HTML\n",
    "%matplotlib inline"
   ]
  },
  {
   "cell_type": "code",
   "execution_count": 112,
   "metadata": {},
   "outputs": [],
   "source": [
    "class Perceptron(object):\n",
    "    \"\"\"Perceptron classifier.\n",
    "\n",
    "    Parameters\n",
    "    ------------\n",
    "    eta : float\n",
    "      Learning rate (between 0.0 and 1.0)\n",
    "    n_iter : int\n",
    "      Passes over the training dataset.\n",
    "    random_state : int\n",
    "      Random number generator seed for random weight\n",
    "      initialization.\n",
    "    use_adaptive_stepsize : bool\n",
    "      If use the algorithm of adaptive step size. \n",
    "    scale: float\n",
    "      The scale in np.random.random.\n",
    "\n",
    "    Attributes\n",
    "    -----------\n",
    "    w_ : 1d-array\n",
    "      Weights after fitting.\n",
    "    errors_ : list\n",
    "      Number of misclassifications (updates) in each epoch.\n",
    "\n",
    "    \"\"\"\n",
    "    def __init__(self, eta=0.01, n_iter=50, random_state=1,use_adaptive_stepsize=False,scale=0.01):\n",
    "        self.eta = eta\n",
    "        self.n_iter = n_iter\n",
    "        self.random_state = random_state\n",
    "        self.use_adaptive_stepsize=use_adaptive_stepsize\n",
    "        self.n_all=0\n",
    "        self.scale=scale\n",
    "        \n",
    "        # return to plot\n",
    "        self.initplot={}\n",
    "        self.toplot=[]\n",
    "        \n",
    "\n",
    "    def fit(self, X, y):\n",
    "        \"\"\"Fit training data.\n",
    "\n",
    "        Parameters\n",
    "        ----------\n",
    "        X : {array-like}, shape = [n_samples, n_features]\n",
    "          Training vectors, where n_samples is the number of samples and\n",
    "          n_features is the number of features.\n",
    "        y : array-like, shape = [n_samples]\n",
    "          Target values.\n",
    "\n",
    "        Returns\n",
    "        -------\n",
    "        self : object\n",
    "\n",
    "        \"\"\"\n",
    "        self.n_all=np.shape(X)[0]\n",
    "        rgen = np.random.RandomState(self.random_state)\n",
    "        self.w_ = rgen.normal(loc=0.0, scale=self.scale, size=1 + X.shape[1])\n",
    "        self.errors_ = []\n",
    "        \n",
    "        # plot initdata\n",
    "        self.initplot={\n",
    "                    \"plotted_data_X\":X,\n",
    "                    \"plotted_data_y\":y,\n",
    "        }\n",
    "\n",
    "        for _ in range(self.n_iter):\n",
    "            errors = 0\n",
    "            eta_updated=self.update_eta()\n",
    "            for index,(xi, target) in enumerate(zip(X, y)):\n",
    "                update = eta_updated * (target - self.predict(xi))\n",
    "                \n",
    "                self.w_[1:] += update * xi\n",
    "                self.w_[0] += update\n",
    "                errors += int(update != 0.0)\n",
    "                \n",
    "                self.toplot.append({\n",
    "                    \"index\":index,\n",
    "                    \"m\":-self.w_[1]/self.w_[2],\n",
    "                    \"b\":-self.w_[0]/self.w_[2],\n",
    "                    \"step\":_\n",
    "                })\n",
    "            self.errors_.append(errors)\n",
    "        return self\n",
    "\n",
    "    def net_input(self, X):\n",
    "        \"\"\"Calculate net input\"\"\"\n",
    "        return np.dot(X, self.w_[1:]) + self.w_[0]\n",
    "\n",
    "    def predict(self, X):\n",
    "        \"\"\"Return class label after unit step\"\"\"\n",
    "        return np.where(self.net_input(X) >= 0.0, 1, -1)\n",
    "    \n",
    "    def update_eta(self):\n",
    "        \"\"\"update eta based on the algorithm described above\"\"\"\n",
    "        if(self.use_adaptive_stepsize):\n",
    "            try:\n",
    "                n_mis=self.errors_[-1]\n",
    "            except:\n",
    "                n_mis=self.n_all\n",
    "            n_all=self.n_all\n",
    "#             print((n_mis/n_all))\n",
    "            return self.eta*(n_mis/n_all)\n",
    "        else:\n",
    "            return self.eta"
   ]
  },
  {
   "cell_type": "markdown",
   "metadata": {},
   "source": [
    "The data generated below is adapted from Prof. M."
   ]
  },
  {
   "cell_type": "code",
   "execution_count": 90,
   "metadata": {},
   "outputs": [],
   "source": [
    "def generate_data(num,m,b,eps,random_state=5):\n",
    "    \"\"\"y=m*x+b\"\"\"\n",
    "    rgen = np.random.RandomState(random_state)\n",
    "    x1_ones = rgen.random_sample(num)\n",
    "    x1_zeros = rgen.random_sample(num)\n",
    "    x_line = np.linspace(0,1)\n",
    "    \n",
    "    x2_ones = m*x1_ones + b + rgen.random_sample(x1_ones.size) + eps\n",
    "    x2_zeros = m*x1_zeros + b - rgen.random_sample(x1_zeros.size) - eps\n",
    "    y_line = m*x_line + b \n",
    "    \n",
    "    plt.figure(figsize=(14,7))\n",
    "    plt.plot(x_line,y_line,'--',label='answer')\n",
    "    plt.plot(x1_ones,x2_ones,'bo', label='ones')\n",
    "    plt.plot(x1_zeros,x2_zeros,'g+', label='minus ones')\n",
    "    plt.xlabel(\"x1\")\n",
    "    plt.ylabel(\"x2\")\n",
    "    plt.title(\"data points\")\n",
    "    plt.legend()\n",
    "    plt.plot()\n",
    "    \n",
    "    X=np.zeros((2*num,2))\n",
    "    y=np.zeros(2*num)\n",
    "    for i in range(num):\n",
    "        X[i]=np.array([x1_ones[i],x2_ones[i]])\n",
    "        y[i]=1\n",
    "        X[i+num]=np.array([x1_zeros[i],x2_zeros[i]])\n",
    "        y[i+num]=-1\n",
    "    return X,y"
   ]
  },
  {
   "cell_type": "markdown",
   "metadata": {},
   "source": [
    "Below is the main part of the code, the parameters are:\n",
    "+ eta: learning rate\n",
    "+ n_iter: number of iterations\n",
    "+ use_adaptive_stepsize: if use adaptive step size\n",
    "+ scale: define the sparsity of the initial value of weight."
   ]
  },
  {
   "cell_type": "code",
   "execution_count": null,
   "metadata": {},
   "outputs": [],
   "source": [
    "# The function to animate\n",
    "class SubplotAnimation(animation.TimedAnimation):\n",
    "    def __init__(self,initplot,toplot):\n",
    "        self.initplot=initplot\n",
    "        self.toplot=toplot\n",
    "        \n",
    "        fig = plt.figure()\n",
    "        ax1 = fig.add_subplot(1, 1, 1)\n",
    "\n",
    "        ax1.set_xlabel('x1')\n",
    "        ax1.set_ylabel('x2')\n",
    "        \n",
    "        self.line1 = Line2D([], [], \"--\")\n",
    "        self.line1bg= Line2D([],[],\"y^\")\n",
    "        self.line1pos = Line2D([], [], \"bo\")\n",
    "        self.line1neg = Line2D(\n",
    "            [], [], \"g+\")\n",
    "        \n",
    "        ax1.add_line(self.line1)\n",
    "        ax1.add_line(self.line1pos)\n",
    "        ax1.add_line(self.line1neg)\n",
    "        \n",
    "        ax1.set_xlim(0, 1)\n",
    "        ax1.set_ylim(0, 1)\n",
    "#         ax1.set_aspect('equal', 'datalim')\n",
    "\n",
    "        animation.TimedAnimation.__init__(self, fig, interval=50, blit=True)\n",
    "\n",
    "    def _draw_frame(self, framedata):\n",
    "        i = framedata\n",
    "        head = i - 1\n",
    "        \n",
    "        x_line = np.linspace(0,1)\n",
    "        m=self.toplot[head][\"m\"]\n",
    "        b=self.toplot[head][\"b\"]\n",
    "        y_line=m*x_line+b\n",
    "        self.line1.set_data(x_line,y_line)\n",
    "        \n",
    "        x_bg=self.initplot[\"plotted_data_X\"][head:]\n",
    "        y_bg=self.initplot[\"plotted_data_y\"][head:]\n",
    "        self.line1b\n",
    "        \n",
    "        self.line1pos.set_data(self.x[head_slice], self.y[head_slice])\n",
    "        \n",
    "        self.line1neg.set_data(self.x[head], self.y[head])\n",
    "\n",
    "        self._drawn_artists = [self.line1, self.line1pos, self.line1neg]\n",
    "\n",
    "    def new_frame_seq(self):\n",
    "        return iter(range(np.shape(self.toplot)[0]))\n",
    "\n",
    "    def _init_draw(self):\n",
    "        lines = [self.line1, self.line1a, self.line1e,\n",
    "                 self.line2, self.line2a, self.line2e,\n",
    "                 self.line3, self.line3a, self.line3e]\n",
    "        for l in lines:\n",
    "            l.set_data([], [])"
   ]
  },
  {
   "cell_type": "code",
   "execution_count": 106,
   "metadata": {},
   "outputs": [],
   "source": [
    "def main(eta=0.01,n_iter=50,use_adaptive_stepsize=False,scale=0.01,number_of_data_points=100,m=2.5,b=0,weight_seed=88,data_seed=72):\n",
    "    per=Perceptron(eta=eta,n_iter=n_iter,use_adaptive_stepsize=use_adaptive_stepsize,scale=scale,random_state=weight_seed)\n",
    "    \n",
    "    X,y=generate_data(int(number_of_data_points/2),m,b,0.1,data_seed)\n",
    "    per.fit(X,y)\n",
    "    \n",
    "    plotx=np.arange(n_iter)+1\n",
    "    ploty=per.errors_\n",
    "    plt.figure(figsize=(14,7))\n",
    "    plt.plot(plotx,ploty,\"--\")\n",
    "    plt.xlabel(\"step\")\n",
    "    plt.ylabel(\"# data mislabeled\")\n",
    "    plt.title(\"error figure\")\n",
    "    plt.show()\n",
    "    \n",
    "    "
   ]
  },
  {
   "cell_type": "code",
   "execution_count": 109,
   "metadata": {},
   "outputs": [
    {
     "data": {
      "image/png": "[encoded data removed]",
      "text/plain": [
       "<Figure size 1008x504 with 1 Axes>"
      ]
     },
     "metadata": {
      "needs_background": "light"
     },
     "output_type": "display_data"
    },
    {
     "data": {
      "image/png": "[encoded data removed]",
      "text/plain": [
       "<Figure size 1008x504 with 1 Axes>"
      ]
     },
     "metadata": {
      "needs_background": "light"
     },
     "output_type": "display_data"
    }
   ],
   "source": [
    "main(weight_seed=55,data_seed=99,use_adaptive_stepsize=False)"
   ]
  },
  {
   "cell_type": "code",
   "execution_count": null,
   "metadata": {},
   "outputs": [],
   "source": []
  }
 ],
 "metadata": {
  "kernelspec": {
   "display_name": "Python 3",
   "language": "python",
   "name": "python3"
  },
  "language_info": {
   "codemirror_mode": {
    "name": "ipython",
    "version": 3
   },
   "file_extension": ".py",
   "mimetype": "text/x-python",
   "name": "python",
   "nbconvert_exporter": "python",
   "pygments_lexer": "ipython3",
   "version": "3.7.0"
  }
 },
 "nbformat": 4,
 "nbformat_minor": 2
}
